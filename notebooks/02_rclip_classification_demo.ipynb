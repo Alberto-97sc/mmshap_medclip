{
  "cells": [
    {
      "cell_type": "markdown",
      "metadata": {},
      "source": [
        "# RClip + SHAP: Clasificación Médica con Balance Multimodal\n",
        "\n",
        "## 🎯 **Configuración CPU-First para estabilidad**\n",
        "Este notebook está configurado para usar **CPU forzado** para evitar errores de CUDA durante el desarrollo.\n",
        "\n",
        "### 📋 **Funcionalidades:**\n",
        "- Clasificación de imágenes médicas usando RClip\n",
        "- Análisis de explicabilidad con SHAP\n",
        "- Medición del balance multimodal (TScore/IScore)\n",
        "- Visualización de mapas de calor para parches de imagen y tokens de texto\n",
        "\n",
        "**Dataset:** ROCO (Radiology Objects in COntext)  \n",
        "**Modelo:** RClip (kaveh/rclip)"
      ]
    },
    {
      "cell_type": "markdown",
      "metadata": {},
      "source": [
        "## 🚀 Configuración inicial"
      ]
    },
    {
      "cell_type": "code",
      "execution_count": null,
      "metadata": {},
      "outputs": [],
      "source": [
        "print(\"🚀 Iniciando configuración...\")\n",
        "\n",
        "# Montar Google Drive\n",
        "from google.colab import drive\n",
        "drive.mount('/content/drive')"
      ]
    },
    {
      "cell_type": "markdown",
      "metadata": {},
      "source": [
        "## 📥 Clonar repositorio"
      ]
    },
    {
      "cell_type": "code",
      "execution_count": null,
      "metadata": {},
      "outputs": [],
      "source": [
        "print(\"📥 Clonando repositorio...\")\n",
        "\n",
        "REPO_URL = \"https://github.com/Alberto-97sc/mmshap_medclip.git\"\n",
        "LOCAL_DIR = \"/content/mmshap_medclip\"\n",
        "BRANCH = \"others-clips-version\"\n",
        "\n",
        "%cd /content\n",
        "import os, shutil, subprocess, sys\n",
        "\n",
        "if not os.path.isdir(f\"{LOCAL_DIR}/.git\"):\n",
        "    !git clone $REPO_URL $LOCAL_DIR\n",
        "else:\n",
        "    %cd $LOCAL_DIR\n",
        "    !git fetch origin\n",
        "    !git checkout $BRANCH\n",
        "    !git reset --hard origin/$BRANCH\n",
        "\n",
        "%cd $LOCAL_DIR\n",
        "commit_hash = !git rev-parse --short HEAD\n",
        "print(f\"✅ Repositorio actualizado: commit {commit_hash[0]}\")"
      ]
    },
    {
      "cell_type": "markdown",
      "metadata": {},
      "source": [
        "## 📦 Instalar dependencias"
      ]
    },
    {
      "cell_type": "code",
      "execution_count": null,
      "metadata": {},
      "outputs": [],
      "source": [
        "print(\"📦 Instalando dependencias...\")\n",
        "\n",
        "%pip install -e /content/mmshap_medclip\n",
        "%pip install tqdm\n",
        "\n",
        "print(\"✅ Dependencias instaladas\")"
      ]
    },
    {
      "cell_type": "markdown",
      "metadata": {},
      "source": [
        "## 🤖 Cargar datos y modelo"
      ]
    },
    {
      "cell_type": "code",
      "execution_count": null,
      "metadata": {},
      "outputs": [],
      "source": [
        "print(\"🤖 Cargando modelo y datos...\")\n",
        "\n",
        "CFG_PATH = \"/content/mmshap_medclip/configs/roco_classification_rclip.yaml\"\n",
        "\n",
        "from mmshap_medclip.io_utils import load_config\n",
        "from mmshap_medclip.devices import get_device\n",
        "from mmshap_medclip.registry import build_dataset, build_model\n",
        "\n",
        "# Cargar configuración\n",
        "cfg = load_config(CFG_PATH)\n",
        "device = get_device()\n",
        "print(f\"🖥️ Dispositivo: {device}\")\n",
        "\n",
        "# Cargar dataset\n",
        "print(\"📁 Cargando dataset ROCO...\")\n",
        "dataset = build_dataset(cfg[\"dataset\"])\n",
        "print(f\"✅ Dataset cargado: {len(dataset)} muestras\")\n",
        "\n",
        "# Cargar modelo\n",
        "print(\"🤖 Cargando modelo RClip...\")\n",
        "model = build_model(cfg[\"model\"], device=device)\n",
        "print(\"✅ Modelo RClip cargado\")"
      ]
    },
    {
      "cell_type": "markdown",
      "metadata": {},
      "source": [
        "## 🏷️ Definir clases"
      ]
    },
    {
      "cell_type": "code",
      "execution_count": null,
      "metadata": {},
      "outputs": [],
      "source": [
        "print(\"🏷️ Configurando clases...\")\n",
        "\n",
        "class_names = [\n",
        "    \"Chest X-Ray\", \"Brain MRI\", \"Abdominal CT Scan\",\n",
        "    \"Ultrasound\", \"OPG\", \"Mammography\", \"Bone X-Ray\"\n",
        "]\n",
        "\n",
        "print(f\"🏷️ Clases definidas: {len(class_names)}\")\n",
        "for i, clase in enumerate(class_names):\n",
        "    print(f\"  {i+1}. {clase}\")"
      ]
    },
    {
      "cell_type": "markdown",
      "metadata": {},
      "source": [
        "## 🖼️ Cargar muestra y mostrar imagen"
      ]
    },
    {
      "cell_type": "code",
      "execution_count": null,
      "metadata": {},
      "outputs": [],
      "source": [
        "print(\"🖼️ Cargando muestra...\")\n",
        "\n",
        "from mmshap_medclip.tasks.classification import run_classification_one\n",
        "import matplotlib.pyplot as plt\n",
        "\n",
        "muestra_idx = 266\n",
        "sample = dataset[muestra_idx]\n",
        "image = sample['image']\n",
        "caption = sample['text']\n",
        "\n",
        "print(f\"📋 Muestra {muestra_idx}:\")\n",
        "print(f\"Caption original: {caption[:100]}...\")\n",
        "\n",
        "# Mostrar imagen\n",
        "plt.figure(figsize=(8, 6))\n",
        "plt.imshow(image)\n",
        "plt.title(f\"Muestra {muestra_idx} - ROCO Dataset\")\n",
        "plt.axis('off')\n",
        "plt.show()"
      ]
    },
    {
      "cell_type": "markdown",
      "metadata": {},
      "source": [
        "## 🔬 Ejecutar clasificación con SHAP"
      ]
    },
    {
      "cell_type": "code",
      "execution_count": null,
      "metadata": {},
      "outputs": [],
      "source": [
        "print(\"🔬 Ejecutando clasificación con SHAP...\")\n",
        "\n",
        "# Cargar configuración SHAP desde el YAML\n",
        "from mmshap_medclip.tasks.classification import load_shap_config_from_yaml\n",
        "shap_config = load_shap_config_from_yaml(CFG_PATH)\n",
        "\n",
        "print(f\"⚙️ Configuración SHAP cargada:\")\n",
        "print(f\"  - Algorithm: {shap_config.get('algorithm', 'permutation')}\")\n",
        "print(f\"  - Max evals: {shap_config.get('max_evals', 1000)}\")\n",
        "print(f\"  - Force CPU: {shap_config.get('force_cpu', False)}\")\n",
        "print(f\"  - Hybrid mode: {shap_config.get('hybrid_mode', False)}\")\n",
        "\n",
        "# Ejecutar clasificación\n",
        "res_shap = run_classification_one(\n",
        "    model, image, class_names, device, \n",
        "    explain=True, plot=True, shap_config=shap_config\n",
        ")"
      ]
    },
    {
      "cell_type": "markdown",
      "metadata": {},
      "source": [
        "## 📊 Mostrar resultados"
      ]
    },
    {
      "cell_type": "code",
      "execution_count": null,
      "metadata": {},
      "outputs": [],
      "source": [
        "print(f\"\\n🎯 Resultados:\")\n",
        "print(f\"Clase predicha: {res_shap['predicted_class']}\")\n",
        "print(f\"Confianza: {res_shap['probabilities'].max():.2%}\")\n",
        "print(f\"TScore (Texto): {res_shap['tscore']:.2%}\")\n",
        "print(f\"IScore (Imagen): {res_shap['iscore']:.2%}\")\n",
        "\n",
        "# Interpretación del balance\n",
        "if res_shap['tscore'] > 0.6:\n",
        "    balance_msg = \"🔤 Enfoque en TEXTO\"\n",
        "elif res_shap['iscore'] > 0.6:\n",
        "    balance_msg = \"🖼️ Enfoque en IMAGEN\"\n",
        "else:\n",
        "    balance_msg = \"⚖️ Balance equilibrado\"\n",
        "    \n",
        "print(f\"Balance: {balance_msg}\")\n",
        "\n",
        "# Mostrar probabilidades de todas las clases\n",
        "print(f\"\\n📊 Probabilidades por clase:\")\n",
        "for clase, prob in zip(class_names, res_shap['probabilities']):\n",
        "    bar = \"█\" * int(prob * 20)\n",
        "    print(f\"  {clase:<20}: {prob:.2%} {bar}\")\n",
        "\n",
        "# Mostrar mapa de calor\n",
        "if 'fig' in res_shap:\n",
        "    print(\"\\n🖼️ Mostrando mapa de calor...\")\n",
        "    display(res_shap['fig'])"
      ]
    },
    {
      "cell_type": "markdown",
      "metadata": {},
      "source": [
        "## 🎉 Resumen final"
      ]
    },
    {
      "cell_type": "code",
      "execution_count": null,
      "metadata": {},
      "outputs": [],
      "source": [
        "print(\"\\n\" + \"=\"*60)\n",
        "print(\"🎉 ¡CLASIFICACIÓN COMPLETADA EXITOSAMENTE!\")\n",
        "print(\"=\"*60)\n",
        "print(f\"✅ Modelo: RClip\")\n",
        "print(f\"✅ Dataset: ROCO ({len(dataset)} muestras)\")\n",
        "print(f\"✅ Clasificación: {res_shap['predicted_class']}\")\n",
        "print(f\"✅ TScore: {res_shap['tscore']:.2%}\")\n",
        "print(f\"✅ IScore: {res_shap['iscore']:.2%}\")\n",
        "print(f\"✅ Balance: {balance_msg}\")\n",
        "print(\"=\"*60)\n",
        "print(\"🚀 Próximo paso: Cambiar force_cpu: false en YAML para GPU\")\n",
        "print(\"=\"*60)"
      ]
    }
  ],
  "metadata": {
    "kernelspec": {
      "display_name": "Python 3",
      "language": "python",
      "name": "python3"
    },
    "language_info": {
      "codemirror_mode": {
        "name": "ipython",
        "version": 3
      },
      "file_extension": ".py",
      "mimetype": "text/x-python",
      "name": "python",
      "nbconvert_exporter": "python",
      "pygments_lexer": "ipython3",
      "version": "3.8.5"
    },
    "colab": {
      "name": "RClip + SHAP: Clasificación Médica",
      "provenance": []
    }
  },
  "nbformat": 4,
  "nbformat_minor": 4
}