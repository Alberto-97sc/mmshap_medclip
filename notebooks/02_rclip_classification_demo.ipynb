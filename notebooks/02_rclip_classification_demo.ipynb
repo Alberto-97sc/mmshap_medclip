{
  "cells": [
    {
      "cell_type": "markdown",
      "metadata": {},
      "source": [
        "<a href=\"https://colab.research.google.com/github/Alberto-97sc/mmshap_medclip/blob/others-clips-version/notebooks/02_rclip_classification_demo.ipynb\" target=\"_parent\"><img src=\"https://colab.research.google.com/assets/colab-badge.svg\" alt=\"Open In Colab\"/></a>\n"
      ]
    },
    {
      "cell_type": "markdown",
      "metadata": {},
      "source": [
        "# RClip + SHAP: Clasificación Médica con Balance Multimodal\n",
        "\n",
        "Este notebook demuestra:\n",
        "- **Clasificación de imágenes médicas** usando RClip\n",
        "- **Análisis de explicabilidad** con SHAP\n",
        "- **Medición del balance multimodal** (TScore/IScore)\n",
        "- **Visualización de mapas de calor** para parches de imagen y tokens de texto\n",
        "\n",
        "Dataset: **ROCO** (Radiology Objects in COntext)  \n",
        "Modelo: **RClip** (kaveh/rclip)\n"
      ]
    },
    {
      "cell_type": "markdown",
      "metadata": {},
      "source": [
        "## 🚀 Configuración inicial\n"
      ]
    },
    {
      "cell_type": "code",
      "execution_count": null,
      "metadata": {},
      "outputs": [],
      "source": [
        "from google.colab import drive\n",
        "drive.mount('/content/drive')\n"
      ]
    },
    {
      "cell_type": "code",
      "execution_count": null,
      "metadata": {},
      "outputs": [],
      "source": [
        "REPO_URL = \"https://github.com/Alberto-97sc/mmshap_medclip.git\"\n",
        "LOCAL_DIR = \"/content/mmshap_medclip\"\n",
        "BRANCH = \"others-clips-version\"\n",
        "\n",
        "%cd /content\n",
        "import os, shutil, subprocess, sys\n",
        "\n",
        "if not os.path.isdir(f\"{LOCAL_DIR}/.git\"):\n",
        "    !git clone $REPO_URL $LOCAL_DIR\n",
        "else:\n",
        "    %cd $LOCAL_DIR\n",
        "    !git fetch origin\n",
        "    !git checkout $BRANCH\n",
        "    !git reset --hard origin/$BRANCH\n",
        "\n",
        "%cd $LOCAL_DIR\n",
        "!git rev-parse --short HEAD\n"
      ]
    },
    {
      "cell_type": "code",
      "execution_count": null,
      "metadata": {},
      "outputs": [],
      "source": [
        "%pip install -e /content/mmshap_medclip\n",
        "%pip install tqdm\n"
      ]
    },
    {
      "cell_type": "markdown",
      "metadata": {},
      "source": [
        "## 📊 Carga de datos y modelo\n"
      ]
    },
    {
      "cell_type": "code",
      "execution_count": null,
      "metadata": {},
      "outputs": [],
      "source": [
        "CFG_PATH = \"/content/mmshap_medclip/configs/roco_classification_rclip.yaml\"\n",
        "\n",
        "from mmshap_medclip.io_utils import load_config\n",
        "from mmshap_medclip.devices import get_device\n",
        "from mmshap_medclip.registry import build_dataset, build_model\n",
        "\n",
        "cfg = load_config(CFG_PATH)\n",
        "device = get_device()\n",
        "print(f\"🖥️ Dispositivo: {device}\")\n",
        "\n",
        "print(\"📁 Cargando dataset ROCO...\")\n",
        "dataset = build_dataset(cfg[\"dataset\"])\n",
        "print(f\"✅ Dataset cargado: {len(dataset)} muestras\")\n",
        "\n",
        "print(\"🤖 Cargando modelo RClip...\")\n",
        "model = build_model(cfg[\"model\"], device=device)\n",
        "print(\"✅ Modelo RClip cargado\")\n"
      ]
    },
    {
      "cell_type": "code",
      "execution_count": null,
      "metadata": {},
      "outputs": [],
      "source": [
        "class_names = [\n",
        "    \"Chest X-Ray\", \"Brain MRI\", \"Abdominal CT Scan\",\n",
        "    \"Ultrasound\", \"OPG\", \"Mammography\", \"Bone X-Ray\"\n",
        "]\n",
        "\n",
        "print(f\"🏷️ Clases definidas: {len(class_names)}\")\n",
        "for i, clase in enumerate(class_names):\n",
        "    print(f\"  {i+1}. {clase}\")\n"
      ]
    },
    {
      "cell_type": "markdown",
      "metadata": {},
      "source": [
        "## 🧠 Clasificación con SHAP y Balance Multimodal\n"
      ]
    },
    {
      "cell_type": "code",
      "execution_count": null,
      "metadata": {},
      "outputs": [],
      "source": [
        "from mmshap_medclip.tasks.classification import run_classification_one\n",
        "import matplotlib.pyplot as plt\n",
        "\n",
        "muestra_idx = 266\n",
        "sample = dataset[muestra_idx]\n",
        "image = sample['image']\n",
        "caption = sample['text']\n",
        "\n",
        "print(f\"📋 Muestra {muestra_idx}:\")\n",
        "print(f\"Caption original: {caption[:100]}...\")\n",
        "\n",
        "plt.figure(figsize=(8, 6))\n",
        "plt.imshow(image)\n",
        "plt.title(f\"Muestra {muestra_idx} - ROCO Dataset\")\n",
        "plt.axis('off')\n",
        "plt.show()\n"
      ]
    },
    {
      "cell_type": "code",
      "execution_count": null,
      "metadata": {},
      "outputs": [],
      "source": [
        "print(\"🔬 Ejecutando clasificación con SHAP...\")\n",
        "res_shap = run_classification_one(\n",
        "    model, image, class_names, device, \n",
        "    explain=True, plot=True\n",
        ")\n",
        "\n",
        "print(f\"\\\\n🎯 Resultados:\")\n",
        "print(f\"Clase predicha: {res_shap['predicted_class']}\")\n",
        "print(f\"Confianza: {res_shap['probabilities'].max():.2%}\")\n",
        "print(f\"TScore (Texto): {res_shap['tscore']:.2%}\")\n",
        "print(f\"IScore (Imagen): {res_shap['iscore']:.2%}\")\n",
        "\n",
        "# Interpretación del balance\n",
        "if res_shap['tscore'] > 0.6:\n",
        "    balance_msg = \"🔤 Enfoque en TEXTO\"\n",
        "elif res_shap['iscore'] > 0.6:\n",
        "    balance_msg = \"🖼️ Enfoque en IMAGEN\"\n",
        "else:\n",
        "    balance_msg = \"⚖️ Balance equilibrado\"\n",
        "    \n",
        "print(f\"Balance: {balance_msg}\")\n",
        "\n",
        "# Mostrar probabilidades de todas las clases\n",
        "print(f\"\\\\n📊 Probabilidades por clase:\")\n",
        "for clase, prob in zip(class_names, res_shap['probabilities']):\n",
        "    bar = \"█\" * int(prob * 20)\n",
        "    print(f\"  {clase:<20}: {prob:.2%} {bar}\")\n",
        "\n",
        "# Mostrar mapa de calor\n",
        "if 'fig' in res_shap:\n",
        "    display(res_shap['fig'])\n"
      ]
    }
  ],
  "metadata": {
    "language_info": {
      "name": "python"
    }
  },
  "nbformat": 4,
  "nbformat_minor": 2
}
