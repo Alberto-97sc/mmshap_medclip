{
 "cells": [
  {
   "cell_type": "markdown",
   "metadata": {
    "id": "9b467b94"
   },
   "source": [
    "# \ud83d\udcd1 Evaluaci\u00f3n de WhyXrayCLIP en ROCO\n",
    "\n",
    "Este notebook forma parte del proyecto de tesis sobre **medici\u00f3n del balance multimodal en modelos CLIP aplicados a dominios m\u00e9dicos**.\n",
    "\n",
    "Modelo actual: **WhyXrayCLIP**\n",
    "Dataset: **ROCO (Radiology Objects in COntext)**\n",
    "Tarea: **ISA (Image-Sentence Alignment)**\n",
    "---\n",
    "\n"
   ]
  },
  {
   "cell_type": "markdown",
   "metadata": {
    "id": "10c7622f"
   },
   "source": [
    "## Clonar repositorio"
   ]
  },
  {
   "cell_type": "code",
   "metadata": {
    "id": "87c53e96"
   },
   "source": [
    "# \ud83d\udccc C\u00f3digo\n",
    "REPO_URL  = \"https://github.com/Alberto-97sc/mmshap_medclip.git\"\n",
    "LOCAL_DIR = \"/content/mmshap_medclip\"\n",
    "BRANCH    = \"codex/adaptar-modelo-whyxrayclip-al-repositorio\"\n",
    "\n",
    "%cd /content\n",
    "import os, shutil, subprocess, sys\n",
    "\n",
    "if not os.path.isdir(f\"{LOCAL_DIR}/.git\"):\n",
    "    # No est\u00e1 clonado a\u00fan\n",
    "    !git clone $REPO_URL $LOCAL_DIR\n",
    "else:\n",
    "    # Ya existe: actualiza a la \u00faltima versi\u00f3n del remoto\n",
    "    %cd $LOCAL_DIR\n",
    "    !git fetch origin\n",
    "    !git checkout $BRANCH\n",
    "    !git reset --hard origin/$BRANCH\n",
    "%cd $LOCAL_DIR\n",
    "!git rev-parse --short HEAD\n"
   ],
   "execution_count": null,
   "outputs": []
  },
  {
   "cell_type": "markdown",
   "metadata": {
    "id": "0efe36cb"
   },
   "source": [
    "## Instalar dependencias y montar google drive"
   ]
  },
  {
   "cell_type": "code",
   "metadata": {
    "id": "35d8329f"
   },
   "source": [
    "from google.colab import drive; drive.mount('/content/drive')\n",
    "\n",
    "# === Instalar en modo editable (pyproject.toml) ===\n",
    "%pip install -e /content/mmshap_medclip"
   ],
   "execution_count": null,
   "outputs": []
  },
  {
   "cell_type": "code",
   "metadata": {
    "id": "adb0cf00"
   },
   "source": [
    "# \ud83d\udccc C\u00f3digo\n",
    "from google.colab import drive; drive.mount('/content/drive')"
   ],
   "execution_count": null,
   "outputs": []
  },
  {
   "cell_type": "markdown",
   "metadata": {
    "id": "6f4ab762"
   },
   "source": [
    "## Cargar modelos y datos"
   ]
  },
  {
   "cell_type": "code",
   "metadata": {
    "id": "b6485339"
   },
   "source": [
    "# \ud83d\udccc C\u00f3digo\n",
    "CFG_PATH=\"/content/mmshap_medclip/configs/roco_isa_whyxrayclip.yaml\"\n",
    "\n",
    "from mmshap_medclip.tasks.whyxrayclip import filter_roco_by_keywords\n",
    "\n",
    "CHESTXRAY_KEYWORDS = (\"chest x-ray\", \"lung\")\n",
    "\n",
    "# Asegura que cfg, device, dataset y model est\u00e9n listos en esta sesi\u00f3n\n",
    "if not all(k in globals() for k in (\"cfg\", \"device\", \"dataset\", \"model\")):\n",
    "    from mmshap_medclip.io_utils import load_config\n",
    "    from mmshap_medclip.registry import build_dataset, build_model\n",
    "    from mmshap_medclip.devices import get_device\n",
    "\n",
    "    cfg = load_config(CFG_PATH)\n",
    "    device  = get_device(cfg.get(\"device\", \"auto\"))\n",
    "    dataset = build_dataset(cfg[\"dataset\"])\n",
    "    model   = build_model(cfg[\"model\"], device=device)\n",
    "\n",
    "# Filtra a radiograf\u00edas de t\u00f3rax/pulm\u00f3n\n",
    "dataset = filter_roco_by_keywords(dataset, keywords=CHESTXRAY_KEYWORDS)\n",
    "\n",
    "print(\"OK \u2192 len(dataset) =\", len(dataset), \"(subset radiograf\u00edas)\", \"| device =\", device)\n"
   ],
   "execution_count": null,
   "outputs": []
  },
  {
   "cell_type": "markdown",
   "metadata": {
    "id": "55231ba0"
   },
   "source": [
    "## Ejecutar SHAP en una muestra"
   ]
  },
  {
   "cell_type": "code",
   "metadata": {
    "id": "0d06718a"
   },
   "source": [
    "# \ud83d\udccc C\u00f3digo\n",
    "from mmshap_medclip.tasks.isa import run_isa_one\n",
    "\n",
    "muestra = 154\n",
    "sample  = dataset[muestra]\n",
    "image, caption = sample['image'], sample['text']\n",
    "\n",
    "res = run_isa_one(model, image, caption, device, explain=True, plot=True)\n",
    "print(f\"logit={res['logit']:.4f}  TScore={res['tscore']:.2%}  IScore={res['iscore']:.2%}\")\n"
   ],
   "execution_count": null,
   "outputs": []
  },
  {
   "cell_type": "code",
   "metadata": {
    "id": "tzOwIfL0D5-5"
   },
   "source": [
    "# ==== Config ====\n",
    "use_negatives = False      # True para zero-shot con negativos\n",
    "num_negatives = 15\n",
    "reproducible = False       # Si True, usar\u00e1 la semilla para muestreo determinista\n",
    "seed = 42                  # Se usa solo cuando reproducible=True\n",
    "keywords = CHESTXRAY_KEYWORDS\n",
    "temperature = 100.0\n",
    "\n",
    "# ==== Funciones auxiliares espec\u00edficas de WhyXrayCLIP ====\n",
    "from mmshap_medclip.tasks.whyxrayclip import (\n",
    "    pick_chestxray_sample,\n",
    "    sample_negative_captions,\n",
    "    score_alignment,\n",
    ")\n",
    "from IPython.display import display\n",
    "\n",
    "sample = pick_chestxray_sample(\n",
    "    dataset,\n",
    "    keywords=keywords,\n",
    "    reproducible=reproducible,\n",
    "    seed=seed,\n",
    ")\n",
    "image = sample['image']\n",
    "caption_clean = sample['caption_clean']\n",
    "\n",
    "print('\u00cdndice en dataset:', sample['index'])\n",
    "print('Caption limpio:', caption_clean)\n",
    "display(image)\n",
    "\n",
    "negatives = []\n",
    "if use_negatives:\n",
    "    negatives = sample_negative_captions(\n",
    "        dataset,\n",
    "        positive_caption=caption_clean,\n",
    "        k=num_negatives,\n",
    "        reproducible=reproducible,\n",
    "        seed=seed,\n",
    "    )\n",
    "\n",
    "scores = score_alignment(\n",
    "    model,\n",
    "    image,\n",
    "    caption_clean,\n",
    "    device=device,\n",
    "    negatives=negatives,\n",
    "    temperature=temperature,\n",
    "    amp_if_cuda=True,\n",
    ")\n",
    "\n",
    "print('\n=== Alineaci\u00f3n imagen\u2013caption ===')\n",
    "print(f\"Similitud coseno: {scores['similarity']:.4f}   |   Score[0,1]: {scores['score_01']:.4f}\")\n",
    "\n",
    "if negatives:\n",
    "    print('\n=== Zero-shot elecci\u00f3n (con negativos) ===')\n",
    "    print(f'Total candidatos: {len(negatives) + 1}')\n",
    "    print(f\"Rank del caption verdadero: {scores['rank_true']}\")\n",
    "    print('\nTop-5 candidatos por probabilidad:')\n",
    "    for lbl, p in scores['ranking'][:5]:\n",
    "        short = (lbl[:120] + '\u2026') if len(lbl) > 120 else lbl\n",
    "        print(f\"{p:7.4f} | {short}\")\n",
    "else:\n",
    "    print('(Sin negativos adicionales en esta corrida.)')\n"
   ],
   "execution_count": null,
   "outputs": []
  }
 ],
 "metadata": {
  "language_info": {
   "name": "python"
  },
  "colab": {
   "provenance": [],
   "gpuType": "T4"
  },
  "kernelspec": {
   "name": "python3",
   "display_name": "Python 3"
  },
  "accelerator": "GPU",
  "widgets": {}
 },
 "nbformat": 4,
 "nbformat_minor": 5
}