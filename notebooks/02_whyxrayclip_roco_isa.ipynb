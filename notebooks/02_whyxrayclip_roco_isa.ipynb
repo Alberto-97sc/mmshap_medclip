      "metadata": {},
        "# 📑 Evaluación de WhyXrayCLIP en ROCO\n"
      "metadata": {},
      "execution_count": null,
        "# 📌 Código\n",
        "    # No está clonado aún\n",
        "    # Ya existe: actualiza a la última versión del remoto\n",
      "metadata": {},
      "execution_count": null,
        }
        "# 📌 Código\n",
      "metadata": {},
      "execution_count": null,
        "# 📌 Código\n",
        "# Asegura que cfg, device, dataset y model estén listos en esta sesión\n",
        "print(\"OK → len(dataset) =\", len(dataset), \"| device =\", device)\n"
      "metadata": {},
      "execution_count": null,
        "# 📌 Código\n",
        "reproducible = False       # False → muestreo aleatorio en cada corrida\n",
        "    print(\"\\n=== Alineación imagen–caption (sin negativos) ===\")\n",
        "    print(\"\\n=== Zero-shot elección (con negativos) ===\")\n",
        "        short = (lbl[:120] + \"…\") if len(lbl) > 120 else lbl\n",
      "execution_count": null
    "accelerator": "GPU"