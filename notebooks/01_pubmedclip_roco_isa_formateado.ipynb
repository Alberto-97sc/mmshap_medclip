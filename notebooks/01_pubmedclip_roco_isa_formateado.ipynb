{
 "cells": [
  {
   "cell_type": "markdown",
   "id": "9b467b94",
   "metadata": {},
   "source": [
    "# 📑 Evaluación de PubMedCLIP en ROCO\n",
    "\n",
    "Este notebook forma parte del proyecto de tesis sobre **medición del balance multimodal en modelos CLIP aplicados a dominios médicos**.\n",
    "\n",
    "Modelo actual: **PubMedCLIP**  \n",
    "Dataset: **ROCO (Radiology Objects in COntext)**  \n",
    "Tarea: **ISA (Image-Sentence Alignment)**\n",
    "---\n"
   ]
  },
  {
   "cell_type": "markdown",
   "id": "10c7622f",
   "metadata": {},
   "source": [
    "## Clonar repositorio"
   ]
  },
  {
   "cell_type": "code",
   "execution_count": null,
   "id": "87c53e96",
   "metadata": {
    "vscode": {
     "languageId": "plaintext"
    }
   },
   "outputs": [],
   "source": [
    "# 📌 Código\n",
    "REPO_URL  = \"https://github.com/Alberto-97sc/mmshap_medclip.git\"\n",
    "LOCAL_DIR = \"/content/mmshap_medclip\"\n",
    "BRANCH    = \"main\"\n",
    "\n",
    "%cd /content\n",
    "import os, shutil, subprocess, sys\n",
    "\n",
    "if not os.path.isdir(f\"{LOCAL_DIR}/.git\"):\n",
    "    # No está clonado aún\n",
    "    !git clone $REPO_URL $LOCAL_DIR\n",
    "else:\n",
    "    # Ya existe: actualiza a la última versión del remoto\n",
    "    %cd $LOCAL_DIR\n",
    "    !git fetch origin\n",
    "    !git checkout $BRANCH\n",
    "    !git reset --hard origin/$BRANCH\n",
    "%cd $LOCAL_DIR\n",
    "!git rev-parse --short HEAD"
   ]
  },
  {
   "cell_type": "markdown",
   "id": "0efe36cb",
   "metadata": {},
   "source": [
    "## Instalar dependencias y montar google drive"
   ]
  },
  {
   "cell_type": "code",
   "execution_count": null,
   "id": "35d8329f",
   "metadata": {
    "vscode": {
     "languageId": "plaintext"
    }
   },
   "outputs": [],
   "source": [
    "from google.colab import drive; drive.mount('/content/drive')\n",
    "\n",
    "# === Instalar en modo editable (pyproject.toml) ===\n",
    "%pip install -e /content/mmshap_medclip"
   ]
  },
  {
   "cell_type": "code",
   "execution_count": null,
   "id": "adb0cf00",
   "metadata": {
    "vscode": {
     "languageId": "plaintext"
    }
   },
   "outputs": [],
   "source": [
    "# 📌 Código\n",
    "from google.colab import drive; drive.mount('/content/drive')"
   ]
  },
  {
   "cell_type": "markdown",
   "id": "6f4ab762",
   "metadata": {},
   "source": [
    "## Cargar modelos y datos"
   ]
  },
  {
   "cell_type": "code",
   "execution_count": null,
   "id": "b6485339",
   "metadata": {
    "vscode": {
     "languageId": "plaintext"
    }
   },
   "outputs": [],
   "source": [
    "# 📌 Código\n",
    "CFG_PATH=\"/content/mmshap_medclip/configs/roco_isa_pubmedclip.yaml\"\n",
    "\n",
    "# Asegura que cfg, device, dataset y model estén listos en esta sesión\n",
    "if not all(k in globals() for k in (\"cfg\", \"device\", \"dataset\", \"model\")):\n",
    "    from mmshap_medclip.io_utils import load_config\n",
    "    from mmshap_medclip.devices import get_device\n",
    "    from mmshap_medclip.registry import build_dataset, build_model\n",
    "\n",
    "    cfg = load_config(CFG_PATH)\n",
    "    device  = get_device()\n",
    "    dataset = build_dataset(cfg[\"dataset\"])\n",
    "    model   = build_model(cfg[\"model\"], device=device)\n",
    "\n",
    "print(\"OK → len(dataset) =\", len(dataset), \"| device =\", device)"
   ]
  },
  {
   "cell_type": "markdown",
   "id": "55231ba0",
   "metadata": {},
   "source": [
    "## Ejecutar SHAP en una muestra"
   ]
  },
  {
   "cell_type": "code",
   "execution_count": null,
   "id": "0d06718a",
   "metadata": {
    "vscode": {
     "languageId": "plaintext"
    }
   },
   "outputs": [],
   "source": [
    "# 📌 Código\n",
    "from mmshap_medclip.tasks.isa import run_isa_one\n",
    "\n",
    "muestra = 266\n",
    "sample  = dataset[muestra]\n",
    "image, caption = sample['image'], sample['text']\n",
    "\n",
    "res = run_isa_one(model, image, caption, device, explain=True, plot=True)\n",
    "print(f\"logit={res['logit']:.4f}  TScore={res['tscore']:.2%}  IScore={res['iscore']:.2%}\")\n",
    "# Si quieres la figura:\n",
    "# display(res['fig'])\n"
   ]
  }
 ],
 "metadata": {
  "language_info": {
   "name": "python"
  }
 },
 "nbformat": 4,
 "nbformat_minor": 5
}
