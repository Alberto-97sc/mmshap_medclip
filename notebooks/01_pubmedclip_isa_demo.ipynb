{
  "cells": [
    {
      "cell_type": "markdown",
      "metadata": {},
      "source": [
        "<a href=\"https://colab.research.google.com/github/Alberto-97sc/mmshap_medclip/blob/others-clips-version/notebooks/01_pubmedclip_isa_demo.ipynb\" target=\"_parent\"><img src=\"https://colab.research.google.com/assets/colab-badge.svg\" alt=\"Open In Colab\"/></a>\n"
      ]
    },
    {
      "cell_type": "markdown",
      "metadata": {},
      "source": [
        "# PubMedCLIP + SHAP: Análisis ISA con Balance Multimodal\n",
        "\n",
        "Este notebook demuestra:\n",
        "- **Image-Sentence Alignment (ISA)** usando PubMedCLIP\n",
        "- **Análisis de explicabilidad** con SHAP\n",
        "- **Medición del balance multimodal** (TScore/IScore)\n",
        "- **Visualización de mapas de calor** para parches de imagen y tokens de texto\n",
        "\n",
        "Dataset: **ROCO** (Radiology Objects in COntext)  \n",
        "Modelo: **PubMedCLIP** (flaviagiammarino/pubmed-clip-vit-base-patch32)\n"
      ]
    },
    {
      "cell_type": "markdown",
      "metadata": {},
      "source": [
        "## 🚀 Configuración inicial\n"
      ]
    },
    {
      "cell_type": "code",
      "execution_count": null,
      "metadata": {},
      "outputs": [],
      "source": [
        "# Montar Google Drive\n",
        "from google.colab import drive\n",
        "drive.mount('/content/drive')\n"
      ]
    },
    {
      "cell_type": "code",
      "execution_count": null,
      "metadata": {},
      "outputs": [],
      "source": [
        "# Configuración del repositorio\n",
        "REPO_URL = \"https://github.com/Alberto-97sc/mmshap_medclip.git\"\n",
        "LOCAL_DIR = \"/content/mmshap_medclip\"\n",
        "BRANCH = \"others-clips-version\"\n",
        "\n",
        "%cd /content\n",
        "import os, shutil, subprocess, sys\n",
        "\n",
        "if not os.path.isdir(f\"{LOCAL_DIR}/.git\"):\n",
        "    !git clone $REPO_URL $LOCAL_DIR\n",
        "else:\n",
        "    %cd $LOCAL_DIR\n",
        "    !git fetch origin\n",
        "    !git checkout $BRANCH\n",
        "    !git reset --hard origin/$BRANCH\n",
        "\n",
        "%cd $LOCAL_DIR\n",
        "!git rev-parse --short HEAD\n"
      ]
    },
    {
      "cell_type": "code",
      "execution_count": null,
      "metadata": {},
      "outputs": [],
      "source": [
        "# Instalar el paquete en modo editable\n",
        "%pip install -e /content/mmshap_medclip\n",
        "\n",
        "# Dependencias adicionales\n",
        "%pip install tqdm\n"
      ]
    },
    {
      "cell_type": "markdown",
      "metadata": {},
      "source": [
        "## 📊 Carga de datos y modelo\n"
      ]
    },
    {
      "cell_type": "code",
      "execution_count": null,
      "metadata": {},
      "outputs": [],
      "source": [
        "CFG_PATH = \"/content/mmshap_medclip/configs/roco_isa_pubmedclip.yaml\"\n",
        "\n",
        "from mmshap_medclip.io_utils import load_config\n",
        "from mmshap_medclip.devices import get_device\n",
        "from mmshap_medclip.registry import build_dataset, build_model\n",
        "\n",
        "cfg = load_config(CFG_PATH)\n",
        "device = get_device()\n",
        "print(f\"🖥️ Dispositivo: {device}\")\n",
        "\n",
        "print(\"📁 Cargando dataset ROCO...\")\n",
        "dataset = build_dataset(cfg[\"dataset\"])\n",
        "print(f\"✅ Dataset cargado: {len(dataset)} muestras\")\n",
        "\n",
        "print(\"🤖 Cargando modelo PubMedCLIP...\")\n",
        "model = build_model(cfg[\"model\"], device=device)\n",
        "print(\"✅ Modelo PubMedCLIP cargado\")\n"
      ]
    },
    {
      "cell_type": "markdown",
      "metadata": {},
      "source": [
        "## 🧠 ISA con SHAP y Balance Multimodal\n"
      ]
    },
    {
      "cell_type": "code",
      "execution_count": null,
      "metadata": {},
      "outputs": [],
      "source": [
        "from mmshap_medclip.tasks.isa import run_isa_one\n",
        "import matplotlib.pyplot as plt\n",
        "import numpy as np\n",
        "\n",
        "# Seleccionar muestra\n",
        "muestra_idx = 266\n",
        "sample = dataset[muestra_idx]\n",
        "image = sample['image']\n",
        "caption = sample['text']\n",
        "\n",
        "print(f\"📋 Muestra {muestra_idx}:\")\n",
        "print(f\"Caption: {caption}\")\n",
        "\n",
        "# Mostrar imagen\n",
        "plt.figure(figsize=(10, 6))\n",
        "plt.imshow(image)\n",
        "plt.title(f\"Muestra {muestra_idx} - ROCO Dataset\\\\n{caption[:80]}...\")\n",
        "plt.axis('off')\n",
        "plt.show()\n"
      ]
    },
    {
      "cell_type": "code",
      "execution_count": null,
      "metadata": {},
      "outputs": [],
      "source": [
        "print(\"🔬 Ejecutando ISA con SHAP...\")\n",
        "res_shap = run_isa_one(model, image, caption, device, explain=True, plot=True)\n",
        "\n",
        "print(f\"\\\\n🎯 Resultados:\")\n",
        "print(f\"Logit (similitud): {res_shap['logit']:.4f}\")\n",
        "print(f\"TScore (Texto): {res_shap['tscore']:.2%}\")\n",
        "print(f\"IScore (Imagen): {res_shap['iscore']:.2%}\")\n",
        "\n",
        "# Interpretaciones\n",
        "if res_shap['tscore'] > 0.6:\n",
        "    balance_msg = \"🔤 Enfoque en TEXTO\"\n",
        "elif res_shap['iscore'] > 0.6:\n",
        "    balance_msg = \"🖼️ Enfoque en IMAGEN\"\n",
        "else:\n",
        "    balance_msg = \"⚖️ Balance equilibrado\"\n",
        "\n",
        "if res_shap['logit'] > 0:\n",
        "    isa_msg = \"✅ BUENA alineación\"\n",
        "else:\n",
        "    isa_msg = \"⚠️ Alineación moderada/pobre\"\n",
        "\n",
        "print(f\"Balance: {balance_msg}\")\n",
        "print(f\"Alineación: {isa_msg}\")\n",
        "\n",
        "# Mostrar mapa de calor\n",
        "if 'fig' in res_shap:\n",
        "    display(res_shap['fig'])\n"
      ]
    },
    {
      "cell_type": "markdown",
      "metadata": {},
      "source": [
        "<a href=\"https://colab.research.google.com/github/Alberto-97sc/mmshap_medclip/blob/others-clips-version/notebooks/01_pubmedclip_isa_demo.ipynb\" target=\"_parent\"><img src=\"https://colab.research.google.com/assets/colab-badge.svg\" alt=\"Open In Colab\"/></a>\n"
      ]
    },
    {
      "cell_type": "markdown",
      "metadata": {},
      "source": [
        "# PubMedCLIP + SHAP: Análisis ISA con Balance Multimodal\n",
        "\n",
        "Este notebook demuestra:\n",
        "- **Image-Sentence Alignment (ISA)** usando PubMedCLIP\n",
        "- **Análisis de explicabilidad** con SHAP\n",
        "- **Medición del balance multimodal** (TScore/IScore)\n",
        "- **Visualización de mapas de calor** para parches de imagen y tokens de texto\n",
        "\n",
        "Dataset: **ROCO** (Radiology Objects in COntext)\n",
        "Modelo: **PubMedCLIP** (flaviagiammarino/pubmed-clip-vit-base-patch32)\n"
      ]
    },
    {
      "cell_type": "markdown",
      "metadata": {},
      "source": [
        "## 🚀 Configuración inicial\n"
      ]
    },
    {
      "cell_type": "code",
      "execution_count": null,
      "metadata": {},
      "outputs": [],
      "source": [
        "# Montar Google Drive\n",
        "from google.colab import drive\n",
        "drive.mount('/content/drive')\n"
      ]
    },
    {
      "cell_type": "code",
      "execution_count": null,
      "metadata": {},
      "outputs": [],
      "source": [
        "# Configuración del repositorio\n",
        "REPO_URL = \"https://github.com/Alberto-97sc/mmshap_medclip.git\"\n",
        "LOCAL_DIR = \"/content/mmshap_medclip\"\n",
        "BRANCH = \"others-clips-version\"  # Rama con RClip y PubMedCLIP\n",
        "\n",
        "%cd /content\n",
        "import os, shutil, subprocess, sys\n",
        "\n",
        "if not os.path.isdir(f\"{LOCAL_DIR}/.git\"):\n",
        "    # No está clonado aún\n",
        "    !git clone $REPO_URL $LOCAL_DIR\n",
        "else:\n",
        "    # Ya existe: actualiza a la última versión del remoto\n",
        "    %cd $LOCAL_DIR\n",
        "    !git fetch origin\n",
        "    !git checkout $BRANCH\n",
        "    !git reset --hard origin/$BRANCH\n",
        "\n",
        "%cd $LOCAL_DIR\n",
        "!git rev-parse --short HEAD\n"
      ]
    },
    {
      "cell_type": "code",
      "execution_count": null,
      "metadata": {},
      "outputs": [],
      "source": [
        "# Instalar el paquete en modo editable\n",
        "%pip install -e /content/mmshap_medclip\n",
        "\n",
        "# Dependencias adicionales si son necesarias\n",
        "%pip install matplotlib seaborn pillow\n"
      ]
    },
    {
      "cell_type": "markdown",
      "metadata": {},
      "source": [
        "## 📊 Carga de datos y modelo\n"
      ]
    },
    {
      "cell_type": "code",
      "execution_count": null,
      "metadata": {},
      "outputs": [],
      "source": [
        "# Configuración para PubMedCLIP + ISA\n",
        "CFG_PATH = \"/content/mmshap_medclip/configs/roco_isa_pubmedclip.yaml\"\n",
        "\n",
        "from mmshap_medclip.io_utils import load_config\n",
        "from mmshap_medclip.devices import get_device\n",
        "from mmshap_medclip.registry import build_dataset, build_model\n",
        "\n",
        "# Cargar configuración\n",
        "cfg = load_config(CFG_PATH)\n",
        "device = get_device()\n",
        "print(f\"🖥️ Dispositivo: {device}\")\n",
        "\n",
        "# Cargar dataset ROCO\n",
        "print(\"📁 Cargando dataset ROCO...\")\n",
        "dataset = build_dataset(cfg[\"dataset\"])\n",
        "print(f\"✅ Dataset cargado: {len(dataset)} muestras\")\n",
        "\n",
        "# Cargar modelo PubMedCLIP\n",
        "print(\"🤖 Cargando modelo PubMedCLIP...\")\n",
        "model = build_model(cfg[\"model\"], device=device)\n",
        "print(\"✅ Modelo PubMedCLIP cargado\")\n"
      ]
    },
    {
      "cell_type": "markdown",
      "metadata": {},
      "source": [
        "## 🔍 Ejemplo 1: ISA simple (sin SHAP)\n"
      ]
    },
    {
      "cell_type": "code",
      "execution_count": null,
      "metadata": {},
      "outputs": [],
      "source": [
        "from mmshap_medclip.tasks.isa import run_isa_one\n",
        "import matplotlib.pyplot as plt\n",
        "import numpy as np\n",
        "\n",
        "# Seleccionar una muestra del dataset\n",
        "muestra_idx = 266  # Cambiar por cualquier índice válidoSELECT \n",
        "    schemaname,\n",
        "    tablename,\n",
        "    pg_size_pretty(pg_total_relation_size(schemaname|| '.' || tablename)) as total_size\n",
        "FROM pg_tables t\n",
        "LEFT JOIN (\n",
        "    SELECT schemaname as schema, \n",
        "           tablename as table, \n",
        "           (xpath('/row/cnt/text()', xml_count))[1]::text::int as row_count\n",
        "    FROM (\n",
        "        SELECT schemaname, tablename, table_xml as xml_count\n",
        "        FROM (\n",
        "            SELECT schemaname, tablename,\n",
        "                   query_to_xml(format('select count(*) as cnt from %I.%I', schemaname, tablename), false, true, '') as table_xml\n",
        "            FROM pg_tables\n",
        "            WHERE schemaname NOT IN ('pg_catalog', 'information_schema')\n",
        "        ) AS t\n",
        "    ) AS pt\n",
        ") AS subq \n",
        "ON t.schemaname = subq.schema \n",
        "AND t.tablename = subq.table\n",
        "WHERE schemaname NOT IN ('pg_catalog', 'information_schema')\n",
        "AND row_count = 0 OR row_count IS NULL\n",
        "ORDER BY schemaname, tablename;\n",
        "sample = dataset[muestra_idx]\n",
        "image = sample['image']\n",
        "caption = sample['text']\n",
        "\n",
        "print(f\"📋 Muestra {muestra_idx}:\")\n",
        "print(f\"Caption: {caption}\")\n",
        "print(f\"Metadata: {sample['meta']}\")\n",
        "\n",
        "# Mostrar la imagen\n",
        "plt.figure(figsize=(10, 6))\n",
        "plt.imshow(image)\n",
        "plt.title(f\"Muestra {muestra_idx} - ROCO Dataset\\n{caption[:80]}...\")\n",
        "plt.axis('off')\n",
        "plt.show()\n"
      ]
    },
    {
      "cell_type": "code",
      "execution_count": null,
      "metadata": {},
      "outputs": [],
      "source": [
        "# ISA rápido sin SHAP\n",
        "print(\"⚡ Ejecutando ISA rápido (sin SHAP)...\")\n",
        "res_simple = run_isa_one(\n",
        "    model, image, caption, device, \n",
        "    explain=False  # Sin explicabilidad para mayor velocidad\n",
        ")\n",
        "\n",
        "print(f\"\\n🎯 Resultados de ISA:\")\n",
        "print(f\"Logit (similitud imagen-texto): {res_simple['logit']:.4f}\")\n",
        "\n",
        "# Interpretación del logit\n",
        "if res_simple['logit'] > 0:\n",
        "    alignment_msg = \"✅ BUENA alineación imagen-texto\"\n",
        "elif res_simple['logit'] > -1:\n",
        "    alignment_msg = \"⚠️ Alineación MODERADA imagen-texto\"\n",
        "else:\n",
        "    alignment_msg = \"❌ POBRE alineación imagen-texto\"\n",
        "    \n",
        "print(f\"Interpretación: {alignment_msg}\")\n"
      ]
    },
    {
      "cell_type": "markdown",
      "metadata": {},
      "source": [
        "## 🧠 Ejemplo 2: ISA con SHAP y Balance Multimodal\n"
      ]
    },
    {
      "cell_type": "code",
      "execution_count": null,
      "metadata": {},
      "outputs": [],
      "source": [
        "print(\"🔬 Ejecutando ISA con SHAP (esto puede tomar varios minutos)...\")\n",
        "res_shap = run_isa_one(\n",
        "    model, image, caption, device, \n",
        "    explain=True,  # Con explicabilidad SHAP\n",
        "    plot=True      # Generar mapas de calor\n",
        ")\n",
        "\n",
        "print(f\"\\n🎯 Resultados con SHAP:\")\n",
        "print(f\"Logit (similitud): {res_shap['logit']:.4f}\")\n",
        "\n",
        "print(f\"\\n⚖️ Balance Multimodal:\")\n",
        "print(f\"TScore (Text Score): {res_shap['tscore']:.2%}\")\n",
        "print(f\"IScore (Image Score): {res_shap['iscore']:.2%}\")\n",
        "\n",
        "# Interpretación del balance\n",
        "if res_shap['tscore'] > 0.6:\n",
        "    balance_msg = \"🔤 Modelo se enfoca más en el TEXTO\"\n",
        "elif res_shap['iscore'] > 0.6:\n",
        "    balance_msg = \"🖼️ Modelo se enfoca más en la IMAGEN\"\n",
        "else:\n",
        "    balance_msg = \"⚖️ Balance equilibrado entre texto e imagen\"\n",
        "    \n",
        "print(f\"Interpretación del balance: {balance_msg}\")\n",
        "\n",
        "# Interpretación del ISA\n",
        "if res_shap['logit'] > 0:\n",
        "    isa_msg = \"✅ BUENA alineación imagen-texto\"\n",
        "elif res_shap['logit'] > -1:\n",
        "    isa_msg = \"⚠️ Alineación MODERADA imagen-texto\"\n",
        "else:\n",
        "    isa_msg = \"❌ POBRE alineación imagen-texto\"\n",
        "    \n",
        "print(f\"Interpretación del ISA: {isa_msg}\")\n"
      ]
    },
    {
      "cell_type": "code",
      "execution_count": null,
      "metadata": {},
      "outputs": [],
      "source": [
        "# Mostrar mapa de calor si está disponible\n",
        "if 'fig' in res_shap:\n",
        "    print(\"🗺️ Mapa de calor con importancia de parches y tokens:\")\n",
        "    display(res_shap['fig'])\n",
        "else:\n",
        "    print(\"⚠️ No se generó mapa de calor\")\n"
      ]
    },
    {
      "cell_type": "markdown",
      "metadata": {},
      "source": [
        "## 📈 Ejemplo 3: Análisis de múltiples muestras\n"
      ]
    },
    {
      "cell_type": "code",
      "execution_count": null,
      "metadata": {},
      "outputs": [],
      "source": [
        "import pandas as pd\n",
        "from tqdm import tqdm\n",
        "\n",
        "# Analizar múltiples muestras para obtener estadísticas\n",
        "num_samples = 15  # Cambiar según necesidades (más muestras = más tiempo)\n",
        "samples_indices = np.random.choice(len(dataset), num_samples, replace=False)\n",
        "\n",
        "results = []\n",
        "\n",
        "print(f\"📊 Analizando {num_samples} muestras aleatorias...\")\n",
        "\n",
        "for i, idx in enumerate(tqdm(samples_indices, desc=\"Procesando ISA\")):\n",
        "    sample = dataset[idx]\n",
        "    image = sample['image']\n",
        "    caption = sample['text']\n",
        "    \n",
        "    # ISA con SHAP (sin plot para mayor velocidad)\n",
        "    res = run_isa_one(\n",
        "        model, image, caption, device, \n",
        "        explain=True, plot=False\n",
        "    )\n",
        "    \n",
        "    # Clasificar la alineación\n",
        "    if res['logit'] > 0:\n",
        "        alignment_category = \"Buena\"\n",
        "    elif res['logit'] > -1:\n",
        "        alignment_category = \"Moderada\"  \n",
        "    else:\n",
        "        alignment_category = \"Pobre\"\n",
        "    \n",
        "    results.append({\n",
        "        'sample_idx': idx,\n",
        "        'logit': res['logit'],\n",
        "        'alignment_category': alignment_category,\n",
        "        'tscore': res['tscore'],\n",
        "        'iscore': res['iscore'],\n",
        "        'original_caption': caption[:60] + \"...\"\n",
        "    })\n",
        "\n",
        "# Crear DataFrame con resultados\n",
        "df_results = pd.DataFrame(results)\n",
        "print(\"\\\\n✅ Análisis completado\")\n",
        "display(df_results)\n"
      ]
    },
    {
      "cell_type": "code",
      "execution_count": null,
      "metadata": {},
      "outputs": [],
      "source": [
        "# Estadísticas del balance multimodal y ISA\n",
        "import seaborn as sns\n",
        "\n",
        "print(\"📈 Estadísticas del análisis ISA:\")\n",
        "print(f\"Logit promedio: {df_results['logit'].mean():.4f} ± {df_results['logit'].std():.4f}\")\n",
        "print(f\"TScore promedio: {df_results['tscore'].mean():.2%} ± {df_results['tscore'].std():.2%}\")\n",
        "print(f\"IScore promedio: {df_results['iscore'].mean():.2%} ± {df_results['iscore'].std():.2%}\")\n",
        "\n",
        "# Distribución de categorías de alineación\n",
        "alignment_counts = df_results['alignment_category'].value_counts()\n",
        "print(f\"\\\\n🎯 Distribución de alineación:\")\n",
        "for categoria, count in alignment_counts.items():\n",
        "    percentage = (count / len(df_results)) * 100\n",
        "    print(f\"  {categoria}: {count} ({percentage:.1f}%)\")\n",
        "\n",
        "# Visualización\n",
        "fig, axes = plt.subplots(2, 2, figsize=(15, 12))\n",
        "\n",
        "# Distribución de Logits (ISA)\n",
        "axes[0,0].hist(df_results['logit'], bins=10, alpha=0.7, color='purple', edgecolor='black')\n",
        "axes[0,0].set_title('Distribución de Logits (ISA)')\n",
        "axes[0,0].set_xlabel('Logit (Similitud Imagen-Texto)')\n",
        "axes[0,0].set_ylabel('Frecuencia')\n",
        "axes[0,0].axvline(df_results['logit'].mean(), color='red', linestyle='--', label='Media')\n",
        "axes[0,0].axvline(0, color='green', linestyle=':', label='Umbral Buena Alineación')\n",
        "axes[0,0].legend()\n",
        "\n",
        "# Distribución de TScore\n",
        "axes[0,1].hist(df_results['tscore'], bins=10, alpha=0.7, color='blue', edgecolor='black')\n",
        "axes[0,1].set_title('Distribución TScore (Importancia Texto)')\n",
        "axes[0,1].set_xlabel('TScore')\n",
        "axes[0,1].set_ylabel('Frecuencia')\n",
        "axes[0,1].axvline(df_results['tscore'].mean(), color='red', linestyle='--', label='Media')\n",
        "axes[0,1].legend()\n",
        "\n",
        "# Scatter plot TScore vs IScore\n",
        "axes[1,0].scatter(df_results['tscore'], df_results['iscore'], alpha=0.7, s=60)\n",
        "axes[1,0].set_xlabel('TScore (Importancia Texto)')\n",
        "axes[1,0].set_ylabel('IScore (Importancia Imagen)')\n",
        "axes[1,0].set_title('Balance Texto vs Imagen')\n",
        "axes[1,0].plot([0, 1], [1, 0], 'r--', alpha=0.5, label='Balance perfecto')\n",
        "axes[1,0].legend()\n",
        "axes[1,0].grid(True, alpha=0.3)\n",
        "\n",
        "# Gráfico de barras para categorías de alineación\n",
        "colors = ['green', 'orange', 'red']\n",
        "bars = axes[1,1].bar(alignment_counts.index, alignment_counts.values, \n",
        "                     color=colors[:len(alignment_counts)], alpha=0.7, edgecolor='black')\n",
        "axes[1,1].set_title('Distribución de Categorías de Alineación')\n",
        "axes[1,1].set_xlabel('Categoría')\n",
        "axes[1,1].set_ylabel('Frecuencia')\n",
        "\n",
        "# Añadir valores en las barras\n",
        "for bar in bars:\n",
        "    height = bar.get_height()\n",
        "    axes[1,1].annotate(f'{int(height)}',\n",
        "                       xy=(bar.get_x() + bar.get_width() / 2, height),\n",
        "                       xytext=(0, 3),\n",
        "                       textcoords=\"offset points\",\n",
        "                       ha='center', va='bottom')\n",
        "\n",
        "plt.tight_layout()\n",
        "plt.show()\n"
      ]
    },
    {
      "cell_type": "markdown",
      "metadata": {},
      "source": []
    }
  ],
  "metadata": {
    "language_info": {
      "name": "python"
    }
  },
  "nbformat": 4,
  "nbformat_minor": 2
}
